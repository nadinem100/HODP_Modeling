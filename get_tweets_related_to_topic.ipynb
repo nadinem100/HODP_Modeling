{
 "cells": [
  {
   "cell_type": "code",
   "execution_count": 1,
   "metadata": {},
   "outputs": [],
   "source": [
    "import requests\n",
    "import json\n",
    "from os import environ\n",
    "from dotenv import load_dotenv, find_dotenv\n",
    "\n",
    "load_dotenv(find_dotenv())\n",
    "TWITTER_API_KEY = environ.get(\"TWITTER_API_KEY\")\n",
    "TWITTER_SECRET_KEY = environ.get(\"TWITTER_SECRET_KEY\")\n",
    "TWITTER_AUTH_BEARER_TOKEN = environ.get(\"TWITTER_AUTH_BEARER_TOKEN\")\n",
    "TWITTER_ACCESS_TOKEN = environ.get(\"TWITTER_ACCESS_TOKEN\")\n",
    "TWITTER_ACCESS_SECRET = environ.get(\"TWITTER_ACCESS_SECRET\")"
   ]
  },
  {
   "cell_type": "code",
   "execution_count": 2,
   "metadata": {},
   "outputs": [],
   "source": [
    "def create_headers():\n",
    "    headers = {\"Authorization\": \"Bearer {}\".format(TWITTER_AUTH_BEARER_TOKEN)}\n",
    "    return headers"
   ]
  },
  {
   "cell_type": "code",
   "execution_count": 3,
   "metadata": {},
   "outputs": [],
   "source": [
    "def connect_to_endpoint(url, headers):\n",
    "    response = requests.request(\"GET\", url, headers=headers)\n",
    "    if response.status_code != 200:\n",
    "        raise Exception(\n",
    "            \"Request returned an error: {} {}\".format(\n",
    "                response.status_code, response.text\n",
    "            )\n",
    "        )\n",
    "    return response.json()"
   ]
  },
  {
   "cell_type": "code",
   "execution_count": 168,
   "metadata": {},
   "outputs": [],
   "source": [
    "def get_tweets_topics():\n",
    "    # gets # of tweets relating to #stopthesteal\n",
    "    # doesnt work for a day -- figure out why\n",
    "    # future: get stopthesteal + 'election' in same query\n",
    "    return f'https://api.twitter.com/2/tweets/search/all?query=stopthesteal&max_results=500&start_time=2021-01-01T00%3A00%3A00Z&end_time=2021-01-01T00%3A01%3A00Z'"
   ]
  },
  {
   "cell_type": "code",
   "execution_count": 172,
   "metadata": {
    "tags": []
   },
   "outputs": [
    {
     "output_type": "stream",
     "name": "stdout",
     "text": [
      "https://api.twitter.com/2/tweets/search/all?query=stopthesteal&max_results=500&start_time=2021-01-01T00%3A00%3A00Z&end_time=2021-01-01T00%3A01%3A00Z\n",
      "{'id': '1344795712958021632', 'text': 'RT @OBXNina: @RealWayneRoot @realDonaldTrump #StoptheSteal audit the votes and clean up the mess! Follow the law, it’s black and white. Eve…'}\n",
      "{'id': '1344795712383578114', 'text': '#StoptheSteal Share and spread the word. If you can be here try to go to your States Capitol. #WeThePeople #HappyNewYear2021 #Trump https://t.co/oejlHLJxOs'}\n",
      "{'id': '1344795699745935361', 'text': 'RT @mikeroman: 🚨 Statement from PA Congressmen:  they will not certify  invalid Biden electors. #StopTheSteal #TrumpWon \\n\\n@MikeKellyPA @Rep…'}\n",
      "{'id': '1344795653096935424', 'text': 'RT @mtgreenee: I’m proud of my colleague @CawthornforNC for standing strong for America’s election integrity and working with me and our gr…'}\n",
      "{'id': '1344795561132756993', 'text': \"RT @Henryhooddavis: I'LL BET THESE LAST $2... THAT........      .\\n@realDonaldTrump ALREADY WON!\\n#Stopthesteal https://t.co/lodVKX1rfZ\"}\n",
      "{'id': '1344795482187558917', 'text': '#StopTheSteal Happy New Year to all the Patriots and Ali 🇺🇸🇺🇸🇺🇸🇺🇸 https://t.co/958hrL0xWi'}\n",
      "{'id': '1344795478953783296', 'text': 'But, hey, keep voting for them as they cut taxes for the rich...\\n\\n#trump #gop #maga #StopTheSteal #StopTheSteal2020 #kraken #PatriotParty #georgia \\n\\nZpl https://t.co/zhV8QGm6uD'}\n"
     ]
    }
   ],
   "source": [
    "print(get_tweets_topics())\n",
    "abc = connect_to_endpoint(get_tweets_topics(), {\"Authorization\": f\"Bearer {TWITTER_AUTH_BEARER_TOKEN}\"})[\"data\"]\n",
    "for i in abc:\n",
    "    print(i)"
   ]
  }
 ],
 "metadata": {
  "kernelspec": {
   "name": "python3",
   "display_name": "Python 3.9.2 64-bit ('hodp_env': conda)",
   "metadata": {
    "interpreter": {
     "hash": "20a992995c7e96d4933568a309599166e87bdff72726af04d7562158e4e8e902"
    }
   }
  },
  "language_info": {
   "codemirror_mode": {
    "name": "ipython",
    "version": 3
   },
   "file_extension": ".py",
   "mimetype": "text/x-python",
   "name": "python",
   "nbconvert_exporter": "python",
   "pygments_lexer": "ipython3",
   "version": "3.9.2-final"
  }
 },
 "nbformat": 4,
 "nbformat_minor": 1
}