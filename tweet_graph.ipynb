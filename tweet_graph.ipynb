{
 "metadata": {
  "language_info": {
   "codemirror_mode": {
    "name": "ipython",
    "version": 3
   },
   "file_extension": ".py",
   "mimetype": "text/x-python",
   "name": "python",
   "nbconvert_exporter": "python",
   "pygments_lexer": "ipython3",
   "version": "3.8.5"
  },
  "orig_nbformat": 2,
  "kernelspec": {
   "name": "python385jvsc74a57bd0a1e41ce82459db762b6ba240d46cf61a11eb90dd85efe022ceddb8dff136f62b",
   "display_name": "Python 3.8.5 64-bit ('base': conda)"
  }
 },
 "nbformat": 4,
 "nbformat_minor": 2,
 "cells": [
  {
   "cell_type": "code",
   "execution_count": 2,
   "metadata": {},
   "outputs": [
    {
     "output_type": "display_data",
     "data": {
      "application/vnd.plotly.v1+json": {
       "config": {
        "plotlyServerURL": "https://plot.ly"
       },
       "data": [
        {
         "marker": {
          "color": "#C63F3F"
         },
         "type": "scatter",
         "x": [
          "11/4/20",
          "11/5/20",
          "11/6/20",
          "11/7/20",
          "11/8/20",
          "11/9/20",
          "11/10/20",
          "11/11/20",
          "11/12/20",
          "11/13/20",
          "11/14/20",
          "11/15/20",
          "11/16/20",
          "11/17/20",
          "11/18/20",
          "11/19/20",
          "11/20/20",
          "11/21/20",
          "11/22/20",
          "11/23/20",
          "11/24/20",
          "11/25/20",
          "11/26/20",
          "11/27/20",
          "11/28/20",
          "11/29/20",
          "11/30/20",
          "12/1/20",
          "12/2/20",
          "12/3/20",
          "12/4/20",
          "12/5/20",
          "12/6/20",
          "12/7/20",
          "12/8/20",
          "12/9/20",
          "12/10/20",
          "12/11/20",
          "12/12/20",
          "12/13/20",
          "12/14/20",
          "12/15/20",
          "12/16/20",
          "12/17/20",
          "12/18/20",
          "12/19/20",
          "12/20/20",
          "12/21/20",
          "12/22/20",
          "12/23/20",
          "12/24/20",
          "12/25/20",
          "12/26/20",
          "12/27/20",
          "12/28/20",
          "12/29/20",
          "12/30/20",
          "12/31/20",
          "1/1/21",
          "1/2/21",
          "1/3/21",
          "1/4/21",
          "1/5/21",
          "1/6/21",
          "1/7/21",
          "1/8/21",
          "1/9/21",
          "1/10/21",
          "1/11/21",
          "1/12/21",
          "1/13/21",
          "1/14/21",
          "1/15/21",
          "1/16/21",
          "1/17/21",
          "1/18/21",
          "1/19/21",
          "1/20/21"
         ],
         "y": [
          10428,
          14806,
          11700,
          13392,
          12400,
          13488,
          13764,
          12846,
          12532,
          11958,
          13534,
          10962,
          9972,
          11368,
          9130,
          11116,
          8370,
          8584,
          13548,
          9048,
          9752,
          11076,
          9340,
          6504,
          9296,
          6888,
          12712,
          13012,
          12096,
          14944,
          17460,
          14500,
          15616,
          11844,
          9360,
          10332,
          12612,
          10968,
          17564,
          14804,
          9436,
          11016,
          9592,
          7860,
          12644,
          8944,
          8476,
          6680,
          10564,
          6468,
          6140,
          3908,
          6120,
          4184,
          4140,
          7772,
          8352,
          12816,
          9732,
          14992,
          15732,
          20852,
          15736,
          23504,
          12552,
          5868,
          4776,
          5004,
          4604,
          8268,
          3620,
          8260,
          2604,
          2044,
          1488,
          1676,
          1192,
          1418
         ]
        }
       ],
       "layout": {
        "legend": {
         "title": {
          "text": "Legend"
         }
        },
        "template": {
         "layout": {
          "coloraxis": {
           "autocolorscale": true,
           "cauto": true,
           "colorbar": {
            "tickfont": {
             "family": "Helvetica",
             "size": 14
            },
            "title": {
             "font": {
              "family": "Helvetica",
              "size": 18
             }
            }
           }
          },
          "colorscale": {
           "diverging": [
            [
             0,
             "#251616"
            ],
            [
             0.25,
             "#760000"
            ],
            [
             0.5,
             "#C63F3F"
            ],
            [
             0.75,
             "#E28073"
            ],
            [
             1,
             "#F1D3CF"
            ]
           ]
          },
          "font": {
           "color": "#717171",
           "family": "Helvetica",
           "size": 18
          },
          "legend": {
           "bgcolor": "rgba(0,0,0,0)",
           "font": {
            "family": "Helvetica",
            "size": 14
           },
           "title": {
            "font": {
             "color": "#251616",
             "family": "Helvetica",
             "size": 18
            }
           },
           "yanchor": "bottom"
          },
          "title": {
           "font": {
            "color": "#251616",
            "family": "Helvetica",
            "size": 24
           },
           "pad": {
            "b": 0,
            "l": 0,
            "r": 0,
            "t": 100
           }
          },
          "xaxis": {
           "automargin": true,
           "showline": true,
           "showtickprefix": "last",
           "showticksuffix": "all",
           "tickfont": {
            "family": "Helvetica",
            "size": 14
           },
           "ticks": "outside",
           "title": {
            "font": {
             "family": "Helvetica",
             "size": 18
            },
            "standoff": 20
           }
          },
          "yaxis": {
           "automargin": true,
           "showline": true,
           "showtickprefix": "last",
           "showticksuffix": "all",
           "tickfont": {
            "family": "Helvetica",
            "size": 14
           },
           "ticks": "outside",
           "title": {
            "font": {
             "family": "Helvetica",
             "size": 18
            },
            "standoff": 20
           }
          }
         }
        },
        "title": {
         "text": "Number of StopTheSteal Tweets over Time"
        },
        "xaxis": {
         "nticks": 10,
         "title": {
          "text": "Date"
         }
        },
        "yaxis": {
         "title": {
          "text": "Number of Tweets"
         }
        }
       }
      }
     },
     "metadata": {}
    }
   ],
   "source": [
    "# import hodp_templates.plotly as hodp_plotly\n",
    "\n",
    "import plotly.graph_objects as go\n",
    "import pandas as pd\n",
    "with open('tweets.csv',encoding='UTF-16') as f:\n",
    "    df = pd.read_csv(f)\n",
    "    \n",
    "fig = go.Figure()\n",
    "\n",
    "# x = df[\"Date\"]\n",
    "# y = df[\"Number of Tweets\"]\n",
    "# print(y)\n",
    "\n",
    "monochrome_colors = ['#251616', '#760000', '#C63F3F', '#E28073', '#F1D3CF']\n",
    "primary_colors = ['#C63F3F', '#F4B436', '#83BFCC', '#455574', '#E2DDDB']\n",
    "\n",
    "# HODP template\n",
    "theme_hodp = go.layout.Template(\n",
    "    layout=go.Layout(\n",
    "        title = {'font':{'size':24, 'family':\"Helvetica\", 'color':monochrome_colors[0]}, 'pad':{'t':100, 'r':0, 'b':0, 'l':0}},\n",
    "        font = {'size':18, 'family':'Helvetica', 'color':'#717171'},\n",
    "        xaxis = {'ticks': \"outside\",\n",
    "                'tickfont': {'size': 14, 'family':\"Helvetica\"},\n",
    "                'showticksuffix': 'all',\n",
    "                'showtickprefix': 'last',\n",
    "                'showline': True,\n",
    "                'title':{'font':{'size':18, 'family':'Helvetica'}, 'standoff':20},\n",
    "                'automargin': True\n",
    "                },\n",
    "        yaxis = {'ticks': \"outside\",\n",
    "                'tickfont': {'size': 14, 'family':\"Helvetica\"},\n",
    "                'showticksuffix': 'all',\n",
    "                'showtickprefix': 'last',\n",
    "                'title':{'font':{'size':18, 'family':'Helvetica'}, 'standoff':20},\n",
    "                'showline': True,\n",
    "                'automargin': True\n",
    "                },\n",
    "        legend = {'bgcolor':'rgba(0,0,0,0)', \n",
    "                'title':{'font':{'size':18, 'family':\"Helvetica\", 'color':monochrome_colors[0]}}, \n",
    "                'font':{'size':14, 'family':\"Helvetica\"}, \n",
    "                'yanchor':'bottom'\n",
    "                },\n",
    "        colorscale = {'diverging':monochrome_colors},\n",
    "        coloraxis = {'autocolorscale':True, \n",
    "                'cauto':True, \n",
    "                'colorbar':{'tickfont':{'size':14,'family':'Helvetica'}, 'title':{'font':{'size':18, 'family':'Helvetica'}}},\n",
    "                }\n",
    "    )\n",
    ")\n",
    "\n",
    "fig.add_trace(go.Scatter(\n",
    "    x = df[\"Date\"],\n",
    "    y = df[\"Number of Tweets\"],\n",
    "    marker_color=primary_colors[0]\n",
    "))\n",
    "\n",
    "fig.update_layout(\n",
    "   title=\"Number of StopTheSteal Tweets over Time\", \n",
    "   xaxis={'title':{'text':'Date'}}, \n",
    "   yaxis={'title':{'text':'Number of Tweets'}}, \n",
    "   legend={'title':{'text':'Legend'}},\n",
    "   template=theme_hodp\n",
    ")\n",
    "\n",
    "fig.update_xaxes(\n",
    "    nticks=10\n",
    ")\n",
    "\n",
    "fig.show()"
   ]
  },
  {
   "cell_type": "code",
   "execution_count": 17,
   "metadata": {},
   "outputs": [
    {
     "output_type": "stream",
     "name": "stdout",
     "text": [
      "          Date  Number of Tweets_x  Number of Tweets_y       Sum\n50  2020-11-04                6442               705.0    7147.0\n40  2020-11-05               93081             32437.0  125518.0\n4   2020-11-06               80075             42535.0  122610.0\n3   2020-11-07              108072             50109.0  158181.0\n59  2020-11-08               49560             36066.0   85626.0\n..         ...                 ...                 ...       ...\n72  2021-01-18                 574                 0.0     574.0\n6   2021-01-19                 160                 0.0     160.0\n78  2021-01-20                 321                 0.0     321.0\n5   2021-01-22                 842                 0.0     842.0\n71  2021-01-24               12774                 0.0   12774.0\n\n[79 rows x 4 columns]\n"
     ]
    },
    {
     "output_type": "display_data",
     "data": {
      "application/vnd.plotly.v1+json": {
       "config": {
        "plotlyServerURL": "https://plot.ly"
       },
       "data": [
        {
         "marker": {
          "color": "#C63F3F"
         },
         "type": "scatter",
         "x": [
          "2020-11-04",
          "2020-11-05",
          "2020-11-06",
          "2020-11-07",
          "2020-11-08",
          "2020-11-09",
          "2020-11-10",
          "2020-11-11",
          "2020-11-12",
          "2020-11-13",
          "2020-11-14",
          "2020-11-15",
          "2020-11-16",
          "2020-11-17",
          "2020-11-18",
          "2020-11-19",
          "2020-11-20",
          "2020-11-21",
          "2020-11-22",
          "2020-11-23",
          "2020-11-24",
          "2020-11-25",
          "2020-11-26",
          "2020-11-27",
          "2020-11-28",
          "2020-11-29",
          "2020-11-30",
          "2020-12-01",
          "2020-12-02",
          "2020-12-03",
          "2020-12-04",
          "2020-12-05",
          "2020-12-06",
          "2020-12-07",
          "2020-12-08",
          "2020-12-09",
          "2020-12-10",
          "2020-12-11",
          "2020-12-12",
          "2020-12-13",
          "2020-12-14",
          "2020-12-15",
          "2020-12-16",
          "2020-12-17",
          "2020-12-18",
          "2020-12-19",
          "2020-12-20",
          "2020-12-21",
          "2020-12-22",
          "2020-12-23",
          "2020-12-24",
          "2020-12-26",
          "2020-12-27",
          "2020-12-28",
          "2020-12-29",
          "2020-12-30",
          "2020-12-31",
          "2021-01-01",
          "2021-01-02",
          "2021-01-03",
          "2021-01-04",
          "2021-01-05",
          "2021-01-06",
          "2021-01-07",
          "2021-01-08",
          "2021-01-09",
          "2021-01-10",
          "2021-01-11",
          "2021-01-12",
          "2021-01-13",
          "2021-01-14",
          "2021-01-15",
          "2021-01-16",
          "2021-01-17",
          "2021-01-18",
          "2021-01-19",
          "2021-01-20",
          "2021-01-22",
          "2021-01-24"
         ],
         "y": [
          7147,
          125518,
          122610,
          158181,
          85626,
          62233,
          28978,
          3761,
          58571,
          59778,
          44197,
          38322,
          44718,
          6664,
          35256,
          27246,
          22921,
          82,
          18063,
          8970,
          3811,
          51132,
          19636,
          4383,
          51,
          1552,
          26723,
          45769,
          9612,
          77466,
          56341,
          31613,
          13519,
          23922,
          32649,
          98085,
          67917,
          15859,
          8147,
          3140,
          1172,
          10215,
          37751,
          22594,
          7556,
          4074,
          12072,
          32500,
          36966,
          12203,
          13791,
          13,
          16129,
          2889,
          9657,
          95709,
          46104,
          30992,
          50460,
          46775,
          71680,
          152331,
          87516,
          29400,
          6423,
          23,
          1279,
          6657,
          2120,
          20676,
          18737,
          213,
          1177,
          1145,
          574,
          160,
          321,
          842,
          12774
         ]
        }
       ],
       "layout": {
        "legend": {
         "title": {
          "text": "Legend"
         }
        },
        "template": {
         "layout": {
          "coloraxis": {
           "autocolorscale": true,
           "cauto": true,
           "colorbar": {
            "tickfont": {
             "family": "Helvetica",
             "size": 14
            },
            "title": {
             "font": {
              "family": "Helvetica",
              "size": 18
             }
            }
           }
          },
          "colorscale": {
           "diverging": [
            [
             0,
             "#251616"
            ],
            [
             0.25,
             "#760000"
            ],
            [
             0.5,
             "#C63F3F"
            ],
            [
             0.75,
             "#E28073"
            ],
            [
             1,
             "#F1D3CF"
            ]
           ]
          },
          "font": {
           "color": "#717171",
           "family": "Helvetica",
           "size": 18
          },
          "legend": {
           "bgcolor": "rgba(0,0,0,0)",
           "font": {
            "family": "Helvetica",
            "size": 14
           },
           "title": {
            "font": {
             "color": "#251616",
             "family": "Helvetica",
             "size": 18
            }
           },
           "yanchor": "bottom"
          },
          "title": {
           "font": {
            "color": "#251616",
            "family": "Helvetica",
            "size": 24
           },
           "pad": {
            "b": 0,
            "l": 0,
            "r": 0,
            "t": 100
           }
          },
          "xaxis": {
           "automargin": true,
           "showline": true,
           "showtickprefix": "last",
           "showticksuffix": "all",
           "tickfont": {
            "family": "Helvetica",
            "size": 14
           },
           "ticks": "outside",
           "title": {
            "font": {
             "family": "Helvetica",
             "size": 18
            },
            "standoff": 20
           }
          },
          "yaxis": {
           "automargin": true,
           "showline": true,
           "showtickprefix": "last",
           "showticksuffix": "all",
           "tickfont": {
            "family": "Helvetica",
            "size": 14
           },
           "ticks": "outside",
           "title": {
            "font": {
             "family": "Helvetica",
             "size": 18
            },
            "standoff": 20
           }
          }
         }
        },
        "title": {
         "text": "Number of Congressman Retweets over Time"
        },
        "xaxis": {
         "nticks": 10,
         "title": {
          "text": "Date"
         }
        },
        "yaxis": {
         "title": {
          "text": "Number of Tweets"
         }
        }
       }
      }
     },
     "metadata": {}
    }
   ],
   "source": [
    "with open('timeseries_house_retweets.csv',encoding='UTF-8') as f:\n",
    "    df1 = pd.read_csv(f)\n",
    "with open('timeseries_senate_retweets.csv',encoding='UTF-8') as f:\n",
    "    df2 = pd.read_csv(f)\n",
    "df1[\"Number of Tweets\"] = pd.to_numeric(df1[\"Number of Tweets\"])\n",
    "df2[\"Number of Tweets\"] = pd.to_numeric(df2[\"Number of Tweets\"])\n",
    "# df = {}\n",
    "# for row in df1:\n",
    "#     print(row)\n",
    "df = df1.merge(df2, on='Date', how='outer').sort_values(\"Date\")\n",
    "df.fillna(0, inplace=True)\n",
    "df['Sum'] = df['Number of Tweets_x'] + df['Number of Tweets_y'] \n",
    "print(df)\n",
    "fig = go.Figure()\n",
    "fig.add_trace(go.Scatter(\n",
    "    x = df[\"Date\"],\n",
    "    y = df[\"Sum\"],\n",
    "    marker_color=primary_colors[0]\n",
    "))\n",
    "\n",
    "fig.update_layout(\n",
    "   title=\"Number of Congressman Retweets over Time\", \n",
    "   xaxis={'title':{'text':'Date'}}, \n",
    "   yaxis={'title':{'text':'Number of Tweets'}}, \n",
    "   legend={'title':{'text':'Legend'}},\n",
    "   template=theme_hodp\n",
    ")\n",
    "\n",
    "fig.update_xaxes(\n",
    "    nticks=10\n",
    ")\n",
    "\n",
    "fig.show()"
   ]
  },
  {
   "cell_type": "code",
   "execution_count": null,
   "metadata": {},
   "outputs": [],
   "source": []
  }
 ]
}