{
 "metadata": {
  "language_info": {
   "codemirror_mode": {
    "name": "ipython",
    "version": 3
   },
   "file_extension": ".py",
   "mimetype": "text/x-python",
   "name": "python",
   "nbconvert_exporter": "python",
   "pygments_lexer": "ipython3",
   "version": "3.8.5"
  },
  "orig_nbformat": 2,
  "kernelspec": {
   "name": "python385jvsc74a57bd0a1e41ce82459db762b6ba240d46cf61a11eb90dd85efe022ceddb8dff136f62b",
   "display_name": "Python 3.8.5 64-bit ('base': conda)"
  }
 },
 "nbformat": 4,
 "nbformat_minor": 2,
 "cells": [
  {
   "cell_type": "code",
   "execution_count": 34,
   "metadata": {},
   "outputs": [
    {
     "output_type": "error",
     "ename": "SyntaxError",
     "evalue": "invalid syntax (<ipython-input-34-5520b3df5e8e>, line 44)",
     "traceback": [
      "\u001b[0;36m  File \u001b[0;32m\"<ipython-input-34-5520b3df5e8e>\"\u001b[0;36m, line \u001b[0;32m44\u001b[0m\n\u001b[0;31m    },\u001b[0m\n\u001b[0m    ^\u001b[0m\n\u001b[0;31mSyntaxError\u001b[0m\u001b[0;31m:\u001b[0m invalid syntax\n"
     ]
    }
   ],
   "source": [
    "# import hodp_templates.plotly as hodp_plotly\n",
    "\n",
    "import plotly.graph_objects as go\n",
    "import pandas as pd\n",
    "with open('tweets.csv',encoding='UTF-8') as f:\n",
    "    trend_df = pd.read_csv(f, parse_dates=['Date'], dayfirst=False)\n",
    "    \n",
    "fig = go.Figure()\n",
    "print(trend_df['Date'])\n",
    "\n",
    "# x = df[\"Date\"]\n",
    "# y = df[\"Number of Tweets\"]\n",
    "# print(y)\n",
    "\n",
    "monochrome_colors = ['#251616', '#760000', '#C63F3F', '#E28073', '#F1D3CF']\n",
    "primary_colors = ['#C63F3F', '#F4B436', '#83BFCC', '#455574', '#E2DDDB']\n",
    "\n",
    "# HODP template\n",
    "theme_hodp = go.layout.Template(\n",
    "    layout=go.Layout(\n",
    "        title = {'font':{'size':24, 'family':\"Helvetica\", 'color':monochrome_colors[0]}, 'pad':{'t':100, 'r':0, 'b':0, 'l':0}},\n",
    "        font = {'size':18, 'family':'Helvetica', 'color':'#717171'},\n",
    "        xaxis = {'ticks': \"outside\",\n",
    "                'tickfont': {'size': 14, 'family':\"Helvetica\"},\n",
    "                'showticksuffix': 'all',\n",
    "                'showtickprefix': 'last',\n",
    "                'showline': True,\n",
    "                'title':{'font':{'size':18, 'family':'Helvetica'}, 'standoff':20},\n",
    "                'automargin': True\n",
    "                },\n",
    "        yaxis = {'ticks': \"outside\",\n",
    "                'tickfont': {'size': 14, 'family':\"Helvetica\"},\n",
    "                'showticksuffix': 'all',\n",
    "                'showtickprefix': 'last',\n",
    "                'title':{'font':{'size':18, 'family':'Helvetica'}, 'standoff':20},\n",
    "                'showline': True,\n",
    "                'automargin': True\n",
    "                },\n",
    "        legend = {'bgcolor':'rgba(0,0,0,0)', \n",
    "                'title':{'font':{'size':18, 'family':\"Helvetica\", 'color':monochrome_colors[0]}}, \n",
    "                'font':{'size':14, 'family':\"Helvetica\"}, \n",
    "                'yanchor':'bottom',\n",
    "                },\n",
    "        colorscale = {'diverging':monochrome_colors},\n",
    "        coloraxis = {'autocolorscale':True, \n",
    "                'cauto':True, \n",
    "                'colorbar':{'tickfont':{'size':14,'family':'Helvetica'}, 'title':{'font':{'size':18, 'family':'Helvetica'}}},\n",
    "                }\n",
    "    )\n",
    ")\n",
    "\n",
    "fig.add_trace(go.Scatter(\n",
    "    x = trend_df[\"Date\"],\n",
    "    y = trend_df[\"Number of Tweets\"],\n",
    "    marker_color=primary_colors[0]\n",
    "))\n",
    "\n",
    "fig.update_layout(\n",
    "   title=\"Number of StopTheSteal Tweets over Time\", \n",
    "   xaxis={'title':{'text':'Date'}}, \n",
    "   yaxis={'title':{'text':'Number of Tweets'}}, \n",
    "   legend={'title':{'text':'Legend'}},\n",
    "   template=theme_hodp\n",
    ")\n",
    "\n",
    "fig.update_xaxes(\n",
    "    nticks=10\n",
    ")\n",
    "\n",
    "fig.show()"
   ]
  },
  {
   "cell_type": "code",
   "execution_count": 69,
   "metadata": {},
   "outputs": [
    {
     "output_type": "stream",
     "name": "stdout",
     "text": [
      "          Date  Number of Tweets_x  Number of Tweets_y       Sum\n50  2020-11-04                6442               705.0    7147.0\n40  2020-11-05               93081             32437.0  125518.0\n4   2020-11-06               80075             42535.0  122610.0\n3   2020-11-07              108072             50109.0  158181.0\n59  2020-11-08               49560             36066.0   85626.0\n..         ...                 ...                 ...       ...\n72  2021-01-18                 574                 0.0     574.0\n6   2021-01-19                 160                 0.0     160.0\n78  2021-01-20                 321                 0.0     321.0\n5   2021-01-22                 842                 0.0     842.0\n71  2021-01-24               12774                 0.0   12774.0\n\n[79 rows x 4 columns]\n"
     ]
    },
    {
     "output_type": "display_data",
     "data": {
      "application/vnd.plotly.v1+json": {
       "config": {
        "plotlyServerURL": "https://plot.ly"
       },
       "data": [
        {
         "marker": {
          "color": "#C63F3F"
         },
         "name": "Number of <br>Congressperson<br>Retweets",
         "type": "scatter",
         "x": [
          "2020-11-04",
          "2020-11-05",
          "2020-11-06",
          "2020-11-07",
          "2020-11-08",
          "2020-11-09",
          "2020-11-10",
          "2020-11-11",
          "2020-11-12",
          "2020-11-13",
          "2020-11-14",
          "2020-11-15",
          "2020-11-16",
          "2020-11-17",
          "2020-11-18",
          "2020-11-19",
          "2020-11-20",
          "2020-11-21",
          "2020-11-22",
          "2020-11-23",
          "2020-11-24",
          "2020-11-25",
          "2020-11-26",
          "2020-11-27",
          "2020-11-28",
          "2020-11-29",
          "2020-11-30",
          "2020-12-01",
          "2020-12-02",
          "2020-12-03",
          "2020-12-04",
          "2020-12-05",
          "2020-12-06",
          "2020-12-07",
          "2020-12-08",
          "2020-12-09",
          "2020-12-10",
          "2020-12-11",
          "2020-12-12",
          "2020-12-13",
          "2020-12-14",
          "2020-12-15",
          "2020-12-16",
          "2020-12-17",
          "2020-12-18",
          "2020-12-19",
          "2020-12-20",
          "2020-12-21",
          "2020-12-22",
          "2020-12-23",
          "2020-12-24",
          "2020-12-26",
          "2020-12-27",
          "2020-12-28",
          "2020-12-29",
          "2020-12-30",
          "2020-12-31",
          "2021-01-01",
          "2021-01-02",
          "2021-01-03",
          "2021-01-04",
          "2021-01-05",
          "2021-01-06",
          "2021-01-07",
          "2021-01-08",
          "2021-01-09",
          "2021-01-10",
          "2021-01-11",
          "2021-01-12",
          "2021-01-13",
          "2021-01-14",
          "2021-01-15",
          "2021-01-16",
          "2021-01-17",
          "2021-01-18",
          "2021-01-19",
          "2021-01-20",
          "2021-01-22",
          "2021-01-24"
         ],
         "y": [
          7147,
          125518,
          122610,
          158181,
          85626,
          62233,
          28978,
          3761,
          58571,
          59778,
          44197,
          38322,
          44718,
          6664,
          35256,
          27246,
          22921,
          82,
          18063,
          8970,
          3811,
          51132,
          19636,
          4383,
          51,
          1552,
          26723,
          45769,
          9612,
          77466,
          56341,
          31613,
          13519,
          23922,
          32649,
          98085,
          67917,
          15859,
          8147,
          3140,
          1172,
          10215,
          37751,
          22594,
          7556,
          4074,
          12072,
          32500,
          36966,
          12203,
          13791,
          13,
          16129,
          2889,
          9657,
          95709,
          46104,
          30992,
          50460,
          46775,
          71680,
          152331,
          87516,
          29400,
          6423,
          23,
          1279,
          6657,
          2120,
          20676,
          18737,
          213,
          1177,
          1145,
          574,
          160,
          321,
          842,
          12774
         ]
        },
        {
         "marker": {
          "color": "#F4B436"
         },
         "name": "Number of General<br>Public Tweets",
         "type": "scatter",
         "x": [
          "2020-11-04T00:00:00",
          "2020-11-05T00:00:00",
          "2020-11-06T00:00:00",
          "2020-11-07T00:00:00",
          "2020-11-08T00:00:00",
          "2020-11-09T00:00:00",
          "2020-11-10T00:00:00",
          "2020-11-11T00:00:00",
          "2020-11-12T00:00:00",
          "2020-11-13T00:00:00",
          "2020-11-14T00:00:00",
          "2020-11-15T00:00:00",
          "2020-11-16T00:00:00",
          "2020-11-17T00:00:00",
          "2020-11-18T00:00:00",
          "2020-11-19T00:00:00",
          "2020-11-20T00:00:00",
          "2020-11-21T00:00:00",
          "2020-11-22T00:00:00",
          "2020-11-23T00:00:00",
          "2020-11-24T00:00:00",
          "2020-11-25T00:00:00",
          "2020-11-26T00:00:00",
          "2020-11-27T00:00:00",
          "2020-11-28T00:00:00",
          "2020-11-29T00:00:00",
          "2020-11-30T00:00:00",
          "2020-12-01T00:00:00",
          "2020-12-02T00:00:00",
          "2020-12-03T00:00:00",
          "2020-12-04T00:00:00",
          "2020-12-05T00:00:00",
          "2020-12-06T00:00:00",
          "2020-12-07T00:00:00",
          "2020-12-08T00:00:00",
          "2020-12-09T00:00:00",
          "2020-12-10T00:00:00",
          "2020-12-11T00:00:00",
          "2020-12-12T00:00:00",
          "2020-12-13T00:00:00",
          "2020-12-14T00:00:00",
          "2020-12-15T00:00:00",
          "2020-12-16T00:00:00",
          "2020-12-17T00:00:00",
          "2020-12-18T00:00:00",
          "2020-12-19T00:00:00",
          "2020-12-20T00:00:00",
          "2020-12-21T00:00:00",
          "2020-12-22T00:00:00",
          "2020-12-23T00:00:00",
          "2020-12-24T00:00:00",
          "2020-12-25T00:00:00",
          "2020-12-26T00:00:00",
          "2020-12-27T00:00:00",
          "2020-12-28T00:00:00",
          "2020-12-29T00:00:00",
          "2020-12-30T00:00:00",
          "2020-12-31T00:00:00",
          "2021-01-01T00:00:00",
          "2021-01-02T00:00:00",
          "2021-01-03T00:00:00",
          "2021-01-04T00:00:00",
          "2021-01-05T00:00:00",
          "2021-01-06T00:00:00",
          "2021-01-07T00:00:00",
          "2021-01-08T00:00:00",
          "2021-01-09T00:00:00",
          "2021-01-10T00:00:00",
          "2021-01-11T00:00:00",
          "2021-01-12T00:00:00",
          "2021-01-13T00:00:00",
          "2021-01-14T00:00:00",
          "2021-01-15T00:00:00",
          "2021-01-16T00:00:00",
          "2021-01-17T00:00:00",
          "2021-01-18T00:00:00",
          "2021-01-19T00:00:00",
          "2021-01-20T00:00:00"
         ],
         "y": [
          10428,
          14806,
          11700,
          13392,
          12400,
          13488,
          13764,
          12846,
          12532,
          11958,
          13534,
          10962,
          9972,
          11368,
          9130,
          11116,
          8370,
          8584,
          13548,
          9048,
          9752,
          11076,
          9340,
          6504,
          9296,
          6888,
          12712,
          13012,
          12096,
          14944,
          17460,
          14500,
          15616,
          11844,
          9360,
          10332,
          12612,
          10968,
          17564,
          14804,
          9436,
          11016,
          9592,
          7860,
          12644,
          8944,
          8476,
          6680,
          10564,
          6468,
          6140,
          3908,
          6120,
          4184,
          4140,
          7772,
          8352,
          12816,
          9732,
          14992,
          15732,
          20852,
          15736,
          23504,
          12552,
          5868,
          4776,
          5004,
          4604,
          8268,
          3620,
          8260,
          2604,
          2044,
          1488,
          1676,
          1192,
          1418
         ]
        }
       ],
       "layout": {
        "legend": {
         "font": {
          "size": 10
         },
         "title": {
          "text": "Legend"
         },
         "x": 1,
         "y": 0.5
        },
        "template": {
         "layout": {
          "coloraxis": {
           "autocolorscale": true,
           "cauto": true,
           "colorbar": {
            "tickfont": {
             "family": "Helvetica",
             "size": 14
            },
            "title": {
             "font": {
              "family": "Helvetica",
              "size": 18
             }
            }
           }
          },
          "colorscale": {
           "diverging": [
            [
             0,
             "#251616"
            ],
            [
             0.25,
             "#760000"
            ],
            [
             0.5,
             "#C63F3F"
            ],
            [
             0.75,
             "#E28073"
            ],
            [
             1,
             "#F1D3CF"
            ]
           ]
          },
          "font": {
           "color": "#717171",
           "family": "Helvetica",
           "size": 18
          },
          "legend": {
           "bgcolor": "rgba(0,0,0,0)",
           "font": {
            "family": "Helvetica",
            "size": 14
           },
           "title": {
            "font": {
             "color": "#251616",
             "family": "Helvetica",
             "size": 18
            }
           },
           "yanchor": "bottom"
          },
          "title": {
           "font": {
            "color": "#251616",
            "family": "Helvetica",
            "size": 24
           },
           "pad": {
            "b": 0,
            "l": 0,
            "r": 0,
            "t": 100
           }
          },
          "xaxis": {
           "automargin": true,
           "showline": true,
           "showtickprefix": "last",
           "showticksuffix": "all",
           "tickfont": {
            "family": "Helvetica",
            "size": 14
           },
           "ticks": "outside",
           "title": {
            "font": {
             "family": "Helvetica",
             "size": 18
            },
            "standoff": 20
           }
          },
          "yaxis": {
           "automargin": true,
           "showline": true,
           "showtickprefix": "last",
           "showticksuffix": "all",
           "tickfont": {
            "family": "Helvetica",
            "size": 14
           },
           "ticks": "outside",
           "title": {
            "font": {
             "family": "Helvetica",
             "size": 18
            },
            "standoff": 20
           }
          }
         }
        },
        "title": {
         "text": "Number of Election Related Congress Member's<br>Retweets vs General Public Tweets"
        },
        "xaxis": {
         "nticks": 10,
         "title": {
          "text": "Date"
         }
        },
        "yaxis": {
         "title": {
          "text": "Number of Tweets"
         }
        }
       }
      }
     },
     "metadata": {}
    }
   ],
   "source": [
    "with open('timeseries_house_retweets.csv',encoding='UTF-8') as f:\n",
    "    df1 = pd.read_csv(f)\n",
    "with open('timeseries_senate_retweets.csv',encoding='UTF-8') as f:\n",
    "    df2 = pd.read_csv(f)\n",
    "df1[\"Number of Tweets\"] = pd.to_numeric(df1[\"Number of Tweets\"])\n",
    "df2[\"Number of Tweets\"] = pd.to_numeric(df2[\"Number of Tweets\"])\n",
    "# df = {}\n",
    "# for row in df1:\n",
    "#     print(row)\n",
    "df = df1.merge(df2, on='Date', how='outer').sort_values(\"Date\")\n",
    "df.fillna(0, inplace=True)\n",
    "df['Sum'] = df['Number of Tweets_x'] + df['Number of Tweets_y'] \n",
    "print(df)\n",
    "fig = go.Figure()\n",
    "\n",
    "fig.add_trace(go.Scatter(\n",
    "    x = df[\"Date\"],\n",
    "    y = df[\"Sum\"],\n",
    "    name=\"Number of <br>Congressperson<br>Retweets\",\n",
    "    marker_color=primary_colors[0]\n",
    "))\n",
    "fig.add_trace(go.Scatter(\n",
    "    x = trend_df[\"Date\"],\n",
    "    y = trend_df[\"Number of Tweets\"],\n",
    "    name=\"Number of General<br>Public Tweets\",\n",
    "    marker_color=primary_colors[1]\n",
    "))\n",
    "\n",
    "fig.update_layout(\n",
    "   title=\"Number of Election Related Congress Member's<br>Retweets vs General Public Tweets\", \n",
    "   xaxis={'title':{'text':'Date'}}, \n",
    "   yaxis={'title':{'text':'Number of Tweets'}}, \n",
    "   legend={'title':{'text':'Legend'},'x': 1, 'y': 0.5, \"font\":{\n",
    "            \"size\":10}},\n",
    "   template=theme_hodp\n",
    ")\n",
    "\n",
    "fig.update_xaxes(\n",
    "    nticks=10\n",
    ")\n",
    "\n",
    "fig.show()\n",
    "fig.write_json(\"timeseries_tweets.json\")"
   ]
  },
  {
   "cell_type": "code",
   "execution_count": null,
   "metadata": {},
   "outputs": [],
   "source": []
  }
 ]
}