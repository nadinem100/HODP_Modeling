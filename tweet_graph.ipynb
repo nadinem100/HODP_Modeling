{
 "metadata": {
  "language_info": {
   "codemirror_mode": {
    "name": "ipython",
    "version": 3
   },
   "file_extension": ".py",
   "mimetype": "text/x-python",
   "name": "python",
   "nbconvert_exporter": "python",
   "pygments_lexer": "ipython3",
   "version": "3.8.5-final"
  },
  "orig_nbformat": 2,
  "kernelspec": {
   "name": ".venv",
   "display_name": ".venv",
   "language": "python"
  }
 },
 "nbformat": 4,
 "nbformat_minor": 2,
 "cells": [
  {
   "cell_type": "code",
   "execution_count": 1,
   "metadata": {},
   "outputs": [
    {
     "output_type": "display_data",
     "data": {
      "application/vnd.plotly.v1+json": {
       "config": {
        "plotlyServerURL": "https://plot.ly"
       },
       "data": [
        {
         "marker": {
          "color": "#C63F3F"
         },
         "type": "scatter",
         "x": [
          "11/4/20",
          "11/5/20",
          "11/6/20",
          "11/7/20",
          "11/8/20",
          "11/9/20",
          "11/10/20",
          "11/11/20",
          "11/12/20",
          "11/13/20",
          "11/14/20",
          "11/15/20",
          "11/16/20",
          "11/17/20",
          "11/18/20",
          "11/19/20",
          "11/20/20",
          "11/21/20",
          "11/22/20",
          "11/23/20",
          "11/24/20",
          "11/25/20",
          "11/26/20",
          "11/27/20",
          "11/28/20",
          "11/29/20",
          "11/30/20",
          "12/1/20",
          "12/2/20",
          "12/3/20",
          "12/4/20",
          "12/5/20",
          "12/6/20",
          "12/7/20",
          "12/8/20",
          "12/9/20",
          "12/10/20",
          "12/11/20",
          "12/12/20",
          "12/13/20",
          "12/14/20",
          "12/15/20",
          "12/16/20",
          "12/17/20",
          "12/18/20",
          "12/19/20",
          "12/20/20",
          "12/21/20",
          "12/22/20",
          "12/23/20",
          "12/24/20",
          "12/25/20",
          "12/26/20",
          "12/27/20",
          "12/28/20",
          "12/29/20",
          "12/30/20",
          "12/31/20",
          "1/1/21",
          "1/2/21",
          "1/3/21",
          "1/4/21",
          "1/5/21",
          "1/6/21",
          "1/7/21",
          "1/8/21",
          "1/9/21",
          "1/10/21",
          "1/11/21",
          "1/12/21",
          "1/13/21",
          "1/14/21",
          "1/15/21",
          "1/16/21",
          "1/17/21",
          "1/18/21",
          "1/19/21",
          "1/20/21"
         ],
         "y": [
          10428,
          14806,
          11700,
          13392,
          12400,
          13488,
          13764,
          12846,
          12532,
          11958,
          13534,
          10962,
          9972,
          11368,
          9130,
          11116,
          8370,
          8584,
          13548,
          9048,
          9752,
          11076,
          9340,
          6504,
          9296,
          6888,
          12712,
          13012,
          12096,
          14944,
          17460,
          14500,
          15616,
          11844,
          9360,
          10332,
          12612,
          10968,
          17564,
          14804,
          9436,
          11016,
          9592,
          7860,
          12644,
          8944,
          8476,
          6680,
          10564,
          6468,
          6140,
          3908,
          6120,
          4184,
          4140,
          7772,
          8352,
          12816,
          9732,
          14992,
          15732,
          20852,
          15736,
          23504,
          12552,
          5868,
          4776,
          5004,
          4604,
          8268,
          3620,
          8260,
          2604,
          2044,
          1488,
          1676,
          1192,
          1418
         ]
        }
       ],
       "layout": {
        "legend": {
         "title": {
          "text": "Legend"
         }
        },
        "template": {
         "layout": {
          "coloraxis": {
           "autocolorscale": true,
           "cauto": true,
           "colorbar": {
            "tickfont": {
             "family": "Helvetica",
             "size": 14
            },
            "title": {
             "font": {
              "family": "Helvetica",
              "size": 18
             }
            }
           }
          },
          "colorscale": {
           "diverging": [
            [
             0,
             "#251616"
            ],
            [
             0.25,
             "#760000"
            ],
            [
             0.5,
             "#C63F3F"
            ],
            [
             0.75,
             "#E28073"
            ],
            [
             1,
             "#F1D3CF"
            ]
           ]
          },
          "font": {
           "color": "#717171",
           "family": "Helvetica",
           "size": 18
          },
          "legend": {
           "bgcolor": "rgba(0,0,0,0)",
           "font": {
            "family": "Helvetica",
            "size": 14
           },
           "title": {
            "font": {
             "color": "#251616",
             "family": "Helvetica",
             "size": 18
            }
           },
           "yanchor": "bottom"
          },
          "title": {
           "font": {
            "color": "#251616",
            "family": "Helvetica",
            "size": 24
           },
           "pad": {
            "b": 0,
            "l": 0,
            "r": 0,
            "t": 100
           }
          },
          "xaxis": {
           "automargin": true,
           "showline": true,
           "showtickprefix": "last",
           "showticksuffix": "all",
           "tickfont": {
            "family": "Helvetica",
            "size": 14
           },
           "ticks": "outside",
           "title": {
            "font": {
             "family": "Helvetica",
             "size": 18
            },
            "standoff": 20
           }
          },
          "yaxis": {
           "automargin": true,
           "showline": true,
           "showtickprefix": "last",
           "showticksuffix": "all",
           "tickfont": {
            "family": "Helvetica",
            "size": 14
           },
           "ticks": "outside",
           "title": {
            "font": {
             "family": "Helvetica",
             "size": 18
            },
            "standoff": 20
           }
          }
         }
        },
        "title": {
         "text": "Number of StopTheSteal Tweets over Time"
        },
        "xaxis": {
         "title": {
          "text": "Date"
         }
        },
        "yaxis": {
         "title": {
          "text": "Number of Tweets"
         }
        }
       }
      }
     },
     "metadata": {}
    }
   ],
   "source": [
    "# import hodp_templates.plotly as hodp_plotly\n",
    "\n",
    "import plotly.graph_objects as go\n",
    "import pandas as pd\n",
    "with open('tweets.csv',encoding='UTF-16') as f:\n",
    "    df = pd.read_csv(f)\n",
    "    \n",
    "fig = go.Figure()\n",
    "\n",
    "# x = df[\"Date\"]\n",
    "# y = df[\"Number of Tweets\"]\n",
    "# print(y)\n",
    "\n",
    "monochrome_colors = ['#251616', '#760000', '#C63F3F', '#E28073', '#F1D3CF']\n",
    "primary_colors = ['#C63F3F', '#F4B436', '#83BFCC', '#455574', '#E2DDDB']\n",
    "\n",
    "# HODP template\n",
    "theme_hodp = go.layout.Template(\n",
    "    layout=go.Layout(\n",
    "        title = {'font':{'size':24, 'family':\"Helvetica\", 'color':monochrome_colors[0]}, 'pad':{'t':100, 'r':0, 'b':0, 'l':0}},\n",
    "        font = {'size':18, 'family':'Helvetica', 'color':'#717171'},\n",
    "        xaxis = {'ticks': \"outside\",\n",
    "                'tickfont': {'size': 14, 'family':\"Helvetica\"},\n",
    "                'showticksuffix': 'all',\n",
    "                'showtickprefix': 'last',\n",
    "                'showline': True,\n",
    "                'title':{'font':{'size':18, 'family':'Helvetica'}, 'standoff':20},\n",
    "                'automargin': True\n",
    "                },\n",
    "        yaxis = {'ticks': \"outside\",\n",
    "                'tickfont': {'size': 14, 'family':\"Helvetica\"},\n",
    "                'showticksuffix': 'all',\n",
    "                'showtickprefix': 'last',\n",
    "                'title':{'font':{'size':18, 'family':'Helvetica'}, 'standoff':20},\n",
    "                'showline': True,\n",
    "                'automargin': True\n",
    "                },\n",
    "        legend = {'bgcolor':'rgba(0,0,0,0)', \n",
    "                'title':{'font':{'size':18, 'family':\"Helvetica\", 'color':monochrome_colors[0]}}, \n",
    "                'font':{'size':14, 'family':\"Helvetica\"}, \n",
    "                'yanchor':'bottom'\n",
    "                },\n",
    "        colorscale = {'diverging':monochrome_colors},\n",
    "        coloraxis = {'autocolorscale':True, \n",
    "                'cauto':True, \n",
    "                'colorbar':{'tickfont':{'size':14,'family':'Helvetica'}, 'title':{'font':{'size':18, 'family':'Helvetica'}}},\n",
    "                }\n",
    "    )\n",
    ")\n",
    "\n",
    "fig.add_trace(go.Scatter(\n",
    "    x = df[\"Date\"],\n",
    "    y = df[\"Number of Tweets\"],\n",
    "    marker_color=primary_colors[0]\n",
    "))\n",
    "\n",
    "fig.update_layout(\n",
    "   title=\"Number of StopTheSteal Tweets over Time\", \n",
    "   xaxis={'title':{'text':'Date'}}, \n",
    "   yaxis={'title':{'text':'Number of Tweets'}}, \n",
    "   legend={'title':{'text':'Legend'}},\n",
    "   template=theme_hodp\n",
    ")\n",
    "\n",
    "\n",
    "fig.show()"
   ]
  },
  {
   "cell_type": "code",
   "execution_count": null,
   "metadata": {},
   "outputs": [],
   "source": []
  }
 ]
}