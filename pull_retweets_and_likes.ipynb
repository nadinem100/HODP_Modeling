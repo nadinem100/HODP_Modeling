{
 "cells": [
  {
   "cell_type": "code",
   "execution_count": 1,
   "metadata": {},
   "outputs": [],
   "source": [
    "import requests\n",
    "import json\n",
    "from os import environ\n",
    "from dotenv import load_dotenv, find_dotenv\n",
    "\n",
    "load_dotenv(find_dotenv())\n",
    "TWITTER_API_KEY = environ.get(\"TWITTER_API_KEY\")\n",
    "TWITTER_SECRET_KEY = environ.get(\"TWITTER_SECRET_KEY\")\n",
    "TWITTER_AUTH_BEARER_TOKEN = environ.get(\"TWITTER_AUTH_BEARER_TOKEN\")\n",
    "TWITTER_ACCESS_TOKEN = environ.get(\"TWITTER_ACCESS_TOKEN\")\n",
    "TWITTER_ACCESS_SECRET = environ.get(\"TWITTER_ACCESS_SECRET\")"
   ]
  },
  {
   "cell_type": "code",
   "execution_count": 2,
   "metadata": {},
   "outputs": [],
   "source": [
    "def create_headers():\n",
    "    headers = {\"Authorization\": \"Bearer {}\".format(TWITTER_AUTH_BEARER_TOKEN)}\n",
    "    return headers"
   ]
  },
  {
   "cell_type": "code",
   "execution_count": 3,
   "metadata": {},
   "outputs": [],
   "source": [
    "def connect_to_endpoint(url, headers):\n",
    "    response = requests.request(\"GET\", url, headers=headers)\n",
    "    print(response.status_code)\n",
    "    if response.status_code != 200:\n",
    "        raise Exception(\n",
    "            \"Request returned an error: {} {}\".format(\n",
    "                response.status_code, response.text\n",
    "            )\n",
    "        )\n",
    "    return response.json()"
   ]
  },
  {
   "cell_type": "code",
   "execution_count": 4,
   "metadata": {},
   "outputs": [],
   "source": [
    "def create_url():\n",
    "    tweet_fields = \"tweet.fields=public_metrics\"\n",
    "    # Tweet fields are adjustable.\n",
    "    # Options include:\n",
    "    # attachments, author_id, context_annotations,\n",
    "    # conversation_id, created_at, entities, geo, id,\n",
    "    # in_reply_to_user_id, lang, non_public_metrics, organic_metrics,\n",
    "    # possibly_sensitive, promoted_metrics, public_metrics, referenced_tweets,\n",
    "    # source, text, and withheld\n",
    "    ids = \"ids=1368603143639101448\"\n",
    "    # You can adjust ids to include a single Tweets.\n",
    "    # Or you can add to up to 100 comma-separated IDs\n",
    "    url = \"https://api.twitter.com/2/tweets?{}&{}\".format(ids, tweet_fields)\n",
    "    return url"
   ]
  },
  {
   "cell_type": "code",
   "execution_count": 7,
   "metadata": {},
   "outputs": [
    {
     "name": "stdout",
     "output_type": "stream",
     "text": [
      "200\n",
      "{\n",
      "    \"data\": [\n",
      "        {\n",
      "            \"id\": \"1368603143639101448\",\n",
      "            \"public_metrics\": {\n",
      "                \"like_count\": 35276,\n",
      "                \"quote_count\": 506,\n",
      "                \"reply_count\": 3748,\n",
      "                \"retweet_count\": 6538\n",
      "            },\n",
      "            \"text\": \"The legacy of Selma is that while nothing can stop free people from exercising their most sacred power as citizens, there are those who will do anything they can to take that power away. As we reflect on the anniversary of Bloody Sunday, we must stay focused on the work ahead. https://t.co/DDn1LFfqmi\"\n",
      "        }\n",
      "    ]\n",
      "}\n"
     ]
    }
   ],
   "source": [
    "url = create_url()\n",
    "headers = create_headers()\n",
    "json_response = connect_to_endpoint(url, headers)\n",
    "print(json.dumps(json_response, indent=4, sort_keys=True))"
   ]
  },
  {
   "cell_type": "code",
   "execution_count": null,
   "metadata": {},
   "outputs": [],
   "source": []
  }
 ],
 "metadata": {
  "kernelspec": {
   "display_name": "venv",
   "language": "python",
   "name": "venv"
  },
  "language_info": {
   "codemirror_mode": {
    "name": "ipython",
    "version": 3
   },
   "file_extension": ".py",
   "mimetype": "text/x-python",
   "name": "python",
   "nbconvert_exporter": "python",
   "pygments_lexer": "ipython3",
   "version": "3.8.8"
  }
 },
 "nbformat": 4,
 "nbformat_minor": 1
}
