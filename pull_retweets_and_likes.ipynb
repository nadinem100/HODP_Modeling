{
 "cells": [
  {
   "cell_type": "code",
   "execution_count": 1,
   "metadata": {},
   "outputs": [],
   "source": [
    "import requests\n",
    "import json\n",
    "from os import environ\n",
    "from dotenv import load_dotenv, find_dotenv\n",
    "\n",
    "load_dotenv(find_dotenv())\n",
    "TWITTER_API_KEY = environ.get(\"TWITTER_API_KEY\")\n",
    "TWITTER_SECRET_KEY = environ.get(\"TWITTER_SECRET_KEY\")\n",
    "TWITTER_AUTH_BEARER_TOKEN = environ.get(\"TWITTER_AUTH_BEARER_TOKEN\")\n",
    "TWITTER_ACCESS_TOKEN = environ.get(\"TWITTER_ACCESS_TOKEN\")\n",
    "TWITTER_ACCESS_SECRET = environ.get(\"TWITTER_ACCESS_SECRET\")"
   ]
  },
  {
   "cell_type": "code",
   "execution_count": 2,
   "metadata": {},
   "outputs": [],
   "source": [
    "def create_headers():\n",
    "    headers = {\"Authorization\": \"Bearer {}\".format(TWITTER_AUTH_BEARER_TOKEN)}\n",
    "    return headers"
   ]
  },
  {
   "cell_type": "code",
   "execution_count": 3,
   "metadata": {},
   "outputs": [],
   "source": [
    "def connect_to_endpoint(url, headers):\n",
    "    response = requests.request(\"GET\", url, headers=headers)\n",
    "    if response.status_code != 200:\n",
    "        raise Exception(\n",
    "            \"Request returned an error: {} {}\".format(\n",
    "                response.status_code, response.text\n",
    "            )\n",
    "        )\n",
    "    return response.json()"
   ]
  },
  {
   "cell_type": "code",
   "execution_count": 4,
   "metadata": {},
   "outputs": [],
   "source": [
    "def get_tweet_info_url(ids):\n",
    "    tweet_fields = \"tweet.fields=public_metrics\"\n",
    "    # Tweet fields are adjustable.\n",
    "    # Options include:\n",
    "    # attachments, author_id, context_annotations,\n",
    "    # conversation_id, created_at, entities, geo, id,\n",
    "    # in_reply_to_user_id, lang, non_public_metrics, organic_metrics,\n",
    "    # possibly_sensitive, promoted_metrics, public_metrics, referenced_tweets,\n",
    "    # source, text, and withheld\n",
    "    separated_ids = \"ids=\" + \",\".join([str(id) for id in ids])\n",
    "    # You can adjust ids to include a single Tweets.\n",
    "    # Or you can add to up to 100 comma-separated IDs\n",
    "    url = f\"https://api.twitter.com/2/tweets?{separated_ids}&{tweet_fields}\"\n",
    "    return url"
   ]
  },
  {
   "cell_type": "code",
   "execution_count": 5,
   "metadata": {},
   "outputs": [],
   "source": [
    "def get_retweeters_url(id):\n",
    "    return f\"https://api.twitter.com/1.1/statuses/retweeters/ids.json?id={id}\"\n"
   ]
  },
  {
   "cell_type": "code",
   "execution_count": 6,
   "metadata": {},
   "outputs": [],
   "source": [
    "def get_retweets_url(id):\n",
    "    return f\"https://api.twitter.com/1.1/statuses/retweets/{id}.json\""
   ]
  },
  {
   "cell_type": "code",
   "execution_count": 7,
   "metadata": {
    "tags": []
   },
   "outputs": [],
   "source": [
    "ids = [1368603143639101448]\n",
    "retweeter_objects = []\n",
    "retweet_objects = []\n",
    "tweet_info_objects = []\n",
    "for id in ids:\n",
    "    retweeter_objects.extend(connect_to_endpoint(get_retweeters_url(id), {\"Authorization\": f\"Bearer {TWITTER_AUTH_BEARER_TOKEN}\"})[\"ids\"])\n",
    "    retweet_objects.extend(connect_to_endpoint(get_retweets_url(id), {\"Authorization\": f\"Bearer {TWITTER_AUTH_BEARER_TOKEN}\"}))\n",
    "tweet_info_objects = connect_to_endpoint(get_tweet_info_url(ids), {\"Authorization\": f\"Bearer {TWITTER_AUTH_BEARER_TOKEN}\"})[\"data\"]"
   ]
  },
  {
   "cell_type": "code",
   "execution_count": 8,
   "metadata": {
    "tags": [
     "outputPrepend"
    ]
   },
   "outputs": [
    {
     "output_type": "stream",
     "name": "stdout",
     "text": [
      "None, 'geo_enabled': False, 'verified': False, 'statuses_count': 4190, 'lang': None, 'contributors_enabled': False, 'is_translator': False, 'is_translation_enabled': False, 'profile_background_color': 'F5F8FA', 'profile_background_image_url': None, 'profile_background_image_url_https': None, 'profile_background_tile': False, 'profile_image_url': 'http://pbs.twimg.com/profile_images/1180498572040708096/jZXuB208_normal.jpg', 'profile_image_url_https': 'https://pbs.twimg.com/profile_images/1180498572040708096/jZXuB208_normal.jpg', 'profile_link_color': '1DA1F2', 'profile_sidebar_border_color': 'C0DEED', 'profile_sidebar_fill_color': 'DDEEF6', 'profile_text_color': '333333', 'profile_use_background_image': True, 'has_extended_profile': True, 'default_profile': True, 'default_profile_image': False, 'following': None, 'follow_request_sent': None, 'notifications': None, 'translator_type': 'none'}, 'geo': None, 'coordinates': None, 'place': None, 'contributors': None, 'retweeted_status': {'created_at': 'Sun Mar 07 16:43:11 +0000 2021', 'id': 1368603143639101448, 'id_str': '1368603143639101448', 'text': 'The legacy of Selma is that while nothing can stop free people from exercising their most sacred power as citizens,… https://t.co/pdpjPwnYdO', 'truncated': True, 'entities': {'hashtags': [], 'symbols': [], 'user_mentions': [], 'urls': [{'url': 'https://t.co/pdpjPwnYdO', 'expanded_url': 'https://twitter.com/i/web/status/1368603143639101448', 'display_url': 'twitter.com/i/web/status/1…', 'indices': [117, 140]}]}, 'source': '<a href=\"https://www.sprinklr.com\" rel=\"nofollow\">The White House</a>', 'in_reply_to_status_id': None, 'in_reply_to_status_id_str': None, 'in_reply_to_user_id': None, 'in_reply_to_user_id_str': None, 'in_reply_to_screen_name': None, 'user': {'id': 1349149096909668363, 'id_str': '1349149096909668363', 'name': 'President Biden', 'screen_name': 'POTUS', 'location': '', 'description': '46th President of the United States, husband to @FLOTUS, proud dad & pop. Tweets may be archived: https://t.co/IURuMIrzxb', 'url': 'https://t.co/IxLjEB2zlE', 'entities': {'url': {'urls': [{'url': 'https://t.co/IxLjEB2zlE', 'expanded_url': 'http://WhiteHouse.gov', 'display_url': 'WhiteHouse.gov', 'indices': [0, 23]}]}, 'description': {'urls': [{'url': 'https://t.co/IURuMIrzxb', 'expanded_url': 'http://whitehouse.gov/privacy', 'display_url': 'whitehouse.gov/privacy', 'indices': [98, 121]}]}}, 'protected': False, 'followers_count': 9020164, 'friends_count': 12, 'listed_count': 9774, 'created_at': 'Wed Jan 13 00:37:08 +0000 2021', 'favourites_count': 0, 'utc_offset': None, 'time_zone': None, 'geo_enabled': False, 'verified': True, 'statuses_count': 329, 'lang': None, 'contributors_enabled': False, 'is_translator': False, 'is_translation_enabled': False, 'profile_background_color': 'F5F8FA', 'profile_background_image_url': None, 'profile_background_image_url_https': None, 'profile_background_tile': False, 'profile_image_url': 'http://pbs.twimg.com/profile_images/1349837426626330628/CRMNXzQJ_normal.jpg', 'profile_image_url_https': 'https://pbs.twimg.com/profile_images/1349837426626330628/CRMNXzQJ_normal.jpg', 'profile_banner_url': 'https://pbs.twimg.com/profile_banners/1349149096909668363/1615590575', 'profile_link_color': '1DA1F2', 'profile_sidebar_border_color': 'C0DEED', 'profile_sidebar_fill_color': 'DDEEF6', 'profile_text_color': '333333', 'profile_use_background_image': True, 'has_extended_profile': True, 'default_profile': True, 'default_profile_image': False, 'following': None, 'follow_request_sent': None, 'notifications': None, 'translator_type': 'none'}, 'geo': None, 'coordinates': None, 'place': None, 'contributors': None, 'is_quote_status': False, 'retweet_count': 6601, 'favorite_count': 35786, 'favorited': False, 'retweeted': False, 'possibly_sensitive': False, 'lang': 'en'}, 'is_quote_status': False, 'retweet_count': 6601, 'favorite_count': 0, 'favorited': False, 'retweeted': False, 'lang': 'en'}, {'created_at': 'Sun Mar 14 02:33:30 +0000 2021', 'id': 1370926030773485572, 'id_str': '1370926030773485572', 'text': 'RT @POTUS: The legacy of Selma is that while nothing can stop free people from exercising their most sacred power as citizens, there are th…', 'truncated': False, 'entities': {'hashtags': [], 'symbols': [], 'user_mentions': [{'screen_name': 'POTUS', 'name': 'President Biden', 'id': 1349149096909668363, 'id_str': '1349149096909668363', 'indices': [3, 9]}], 'urls': []}, 'source': '<a href=\"http://twitter.com/download/android\" rel=\"nofollow\">Twitter for Android</a>', 'in_reply_to_status_id': None, 'in_reply_to_status_id_str': None, 'in_reply_to_user_id': None, 'in_reply_to_user_id_str': None, 'in_reply_to_screen_name': None, 'user': {'id': 1255880022201495554, 'id_str': '1255880022201495554', 'name': 'aunghsi', 'screen_name': 'aunghsi1', 'location': '', 'description': 'လောကသစွာ', 'url': None, 'entities': {'description': {'urls': []}}, 'protected': False, 'followers_count': 34, 'friends_count': 691, 'listed_count': 1, 'created_at': 'Thu Apr 30 15:22:00 +0000 2020', 'favourites_count': 211, 'utc_offset': None, 'time_zone': None, 'geo_enabled': True, 'verified': False, 'statuses_count': 232, 'lang': None, 'contributors_enabled': False, 'is_translator': False, 'is_translation_enabled': False, 'profile_background_color': 'F5F8FA', 'profile_background_image_url': None, 'profile_background_image_url_https': None, 'profile_background_tile': False, 'profile_image_url': 'http://pbs.twimg.com/profile_images/1279505949217046531/KIlLXFgK_normal.jpg', 'profile_image_url_https': 'https://pbs.twimg.com/profile_images/1279505949217046531/KIlLXFgK_normal.jpg', 'profile_banner_url': 'https://pbs.twimg.com/profile_banners/1255880022201495554/1594925454', 'profile_link_color': '1DA1F2', 'profile_sidebar_border_color': 'C0DEED', 'profile_sidebar_fill_color': 'DDEEF6', 'profile_text_color': '333333', 'profile_use_background_image': True, 'has_extended_profile': True, 'default_profile': True, 'default_profile_image': False, 'following': None, 'follow_request_sent': None, 'notifications': None, 'translator_type': 'none'}, 'geo': None, 'coordinates': None, 'place': None, 'contributors': None, 'retweeted_status': {'created_at': 'Sun Mar 07 16:43:11 +0000 2021', 'id': 1368603143639101448, 'id_str': '1368603143639101448', 'text': 'The legacy of Selma is that while nothing can stop free people from exercising their most sacred power as citizens,… https://t.co/pdpjPwnYdO', 'truncated': True, 'entities': {'hashtags': [], 'symbols': [], 'user_mentions': [], 'urls': [{'url': 'https://t.co/pdpjPwnYdO', 'expanded_url': 'https://twitter.com/i/web/status/1368603143639101448', 'display_url': 'twitter.com/i/web/status/1…', 'indices': [117, 140]}]}, 'source': '<a href=\"https://www.sprinklr.com\" rel=\"nofollow\">The White House</a>', 'in_reply_to_status_id': None, 'in_reply_to_status_id_str': None, 'in_reply_to_user_id': None, 'in_reply_to_user_id_str': None, 'in_reply_to_screen_name': None, 'user': {'id': 1349149096909668363, 'id_str': '1349149096909668363', 'name': 'President Biden', 'screen_name': 'POTUS', 'location': '', 'description': '46th President of the United States, husband to @FLOTUS, proud dad & pop. Tweets may be archived: https://t.co/IURuMIrzxb', 'url': 'https://t.co/IxLjEB2zlE', 'entities': {'url': {'urls': [{'url': 'https://t.co/IxLjEB2zlE', 'expanded_url': 'http://WhiteHouse.gov', 'display_url': 'WhiteHouse.gov', 'indices': [0, 23]}]}, 'description': {'urls': [{'url': 'https://t.co/IURuMIrzxb', 'expanded_url': 'http://whitehouse.gov/privacy', 'display_url': 'whitehouse.gov/privacy', 'indices': [98, 121]}]}}, 'protected': False, 'followers_count': 9020164, 'friends_count': 12, 'listed_count': 9774, 'created_at': 'Wed Jan 13 00:37:08 +0000 2021', 'favourites_count': 0, 'utc_offset': None, 'time_zone': None, 'geo_enabled': False, 'verified': True, 'statuses_count': 329, 'lang': None, 'contributors_enabled': False, 'is_translator': False, 'is_translation_enabled': False, 'profile_background_color': 'F5F8FA', 'profile_background_image_url': None, 'profile_background_image_url_https': None, 'profile_background_tile': False, 'profile_image_url': 'http://pbs.twimg.com/profile_images/1349837426626330628/CRMNXzQJ_normal.jpg', 'profile_image_url_https': 'https://pbs.twimg.com/profile_images/1349837426626330628/CRMNXzQJ_normal.jpg', 'profile_banner_url': 'https://pbs.twimg.com/profile_banners/1349149096909668363/1615590575', 'profile_link_color': '1DA1F2', 'profile_sidebar_border_color': 'C0DEED', 'profile_sidebar_fill_color': 'DDEEF6', 'profile_text_color': '333333', 'profile_use_background_image': True, 'has_extended_profile': True, 'default_profile': True, 'default_profile_image': False, 'following': None, 'follow_request_sent': None, 'notifications': None, 'translator_type': 'none'}, 'geo': None, 'coordinates': None, 'place': None, 'contributors': None, 'is_quote_status': False, 'retweet_count': 6601, 'favorite_count': 35786, 'favorited': False, 'retweeted': False, 'possibly_sensitive': False, 'lang': 'en'}, 'is_quote_status': False, 'retweet_count': 6601, 'favorite_count': 0, 'favorited': False, 'retweeted': False, 'lang': 'en'}, {'created_at': 'Sun Mar 14 00:05:13 +0000 2021', 'id': 1370888713933357065, 'id_str': '1370888713933357065', 'text': 'RT @POTUS: The legacy of Selma is that while nothing can stop free people from exercising their most sacred power as citizens, there are th…', 'truncated': False, 'entities': {'hashtags': [], 'symbols': [], 'user_mentions': [{'screen_name': 'POTUS', 'name': 'President Biden', 'id': 1349149096909668363, 'id_str': '1349149096909668363', 'indices': [3, 9]}], 'urls': []}, 'source': '<a href=\"http://twitter.com/download/android\" rel=\"nofollow\">Twitter for Android</a>', 'in_reply_to_status_id': None, 'in_reply_to_status_id_str': None, 'in_reply_to_user_id': None, 'in_reply_to_user_id_str': None, 'in_reply_to_screen_name': None, 'user': {'id': 1370052850210996236, 'id_str': '1370052850210996236', 'name': 'Darrell', 'screen_name': 'Darrell38210631', 'location': '', 'description': '', 'url': None, 'entities': {'description': {'urls': []}}, 'protected': False, 'followers_count': 7, 'friends_count': 121, 'listed_count': 1, 'created_at': 'Thu Mar 11 16:44:13 +0000 2021', 'favourites_count': 0, 'utc_offset': None, 'time_zone': None, 'geo_enabled': False, 'verified': False, 'statuses_count': 563, 'lang': None, 'contributors_enabled': False, 'is_translator': False, 'is_translation_enabled': False, 'profile_background_color': 'F5F8FA', 'profile_background_image_url': None, 'profile_background_image_url_https': None, 'profile_background_tile': False, 'profile_image_url': 'http://pbs.twimg.com/profile_images/1370366755319730176/qqc7rOXd_normal.jpg', 'profile_image_url_https': 'https://pbs.twimg.com/profile_images/1370366755319730176/qqc7rOXd_normal.jpg', 'profile_link_color': '1DA1F2', 'profile_sidebar_border_color': 'C0DEED', 'profile_sidebar_fill_color': 'DDEEF6', 'profile_text_color': '333333', 'profile_use_background_image': True, 'has_extended_profile': True, 'default_profile': True, 'default_profile_image': False, 'following': None, 'follow_request_sent': None, 'notifications': None, 'translator_type': 'none'}, 'geo': None, 'coordinates': None, 'place': None, 'contributors': None, 'retweeted_status': {'created_at': 'Sun Mar 07 16:43:11 +0000 2021', 'id': 1368603143639101448, 'id_str': '1368603143639101448', 'text': 'The legacy of Selma is that while nothing can stop free people from exercising their most sacred power as citizens,… https://t.co/pdpjPwnYdO', 'truncated': True, 'entities': {'hashtags': [], 'symbols': [], 'user_mentions': [], 'urls': [{'url': 'https://t.co/pdpjPwnYdO', 'expanded_url': 'https://twitter.com/i/web/status/1368603143639101448', 'display_url': 'twitter.com/i/web/status/1…', 'indices': [117, 140]}]}, 'source': '<a href=\"https://www.sprinklr.com\" rel=\"nofollow\">The White House</a>', 'in_reply_to_status_id': None, 'in_reply_to_status_id_str': None, 'in_reply_to_user_id': None, 'in_reply_to_user_id_str': None, 'in_reply_to_screen_name': None, 'user': {'id': 1349149096909668363, 'id_str': '1349149096909668363', 'name': 'President Biden', 'screen_name': 'POTUS', 'location': '', 'description': '46th President of the United States, husband to @FLOTUS, proud dad & pop. Tweets may be archived: https://t.co/IURuMIrzxb', 'url': 'https://t.co/IxLjEB2zlE', 'entities': {'url': {'urls': [{'url': 'https://t.co/IxLjEB2zlE', 'expanded_url': 'http://WhiteHouse.gov', 'display_url': 'WhiteHouse.gov', 'indices': [0, 23]}]}, 'description': {'urls': [{'url': 'https://t.co/IURuMIrzxb', 'expanded_url': 'http://whitehouse.gov/privacy', 'display_url': 'whitehouse.gov/privacy', 'indices': [98, 121]}]}}, 'protected': False, 'followers_count': 9020164, 'friends_count': 12, 'listed_count': 9774, 'created_at': 'Wed Jan 13 00:37:08 +0000 2021', 'favourites_count': 0, 'utc_offset': None, 'time_zone': None, 'geo_enabled': False, 'verified': True, 'statuses_count': 329, 'lang': None, 'contributors_enabled': False, 'is_translator': False, 'is_translation_enabled': False, 'profile_background_color': 'F5F8FA', 'profile_background_image_url': None, 'profile_background_image_url_https': None, 'profile_background_tile': False, 'profile_image_url': 'http://pbs.twimg.com/profile_images/1349837426626330628/CRMNXzQJ_normal.jpg', 'profile_image_url_https': 'https://pbs.twimg.com/profile_images/1349837426626330628/CRMNXzQJ_normal.jpg', 'profile_banner_url': 'https://pbs.twimg.com/profile_banners/1349149096909668363/1615590575', 'profile_link_color': '1DA1F2', 'profile_sidebar_border_color': 'C0DEED', 'profile_sidebar_fill_color': 'DDEEF6', 'profile_text_color': '333333', 'profile_use_background_image': True, 'has_extended_profile': True, 'default_profile': True, 'default_profile_image': False, 'following': None, 'follow_request_sent': None, 'notifications': None, 'translator_type': 'none'}, 'geo': None, 'coordinates': None, 'place': None, 'contributors': None, 'is_quote_status': False, 'retweet_count': 6601, 'favorite_count': 35786, 'favorited': False, 'retweeted': False, 'possibly_sensitive': False, 'lang': 'en'}, 'is_quote_status': False, 'retweet_count': 6601, 'favorite_count': 0, 'favorited': False, 'retweeted': False, 'lang': 'en'}, {'created_at': 'Sat Mar 13 23:58:04 +0000 2021', 'id': 1370886911913517056, 'id_str': '1370886911913517056', 'text': 'RT @POTUS: The legacy of Selma is that while nothing can stop free people from exercising their most sacred power as citizens, there are th…', 'truncated': False, 'entities': {'hashtags': [], 'symbols': [], 'user_mentions': [{'screen_name': 'POTUS', 'name': 'President Biden', 'id': 1349149096909668363, 'id_str': '1349149096909668363', 'indices': [3, 9]}], 'urls': []}, 'source': '<a href=\"http://twitter.com/download/android\" rel=\"nofollow\">Twitter for Android</a>', 'in_reply_to_status_id': None, 'in_reply_to_status_id_str': None, 'in_reply_to_user_id': None, 'in_reply_to_user_id_str': None, 'in_reply_to_screen_name': None, 'user': {'id': 867145598113284098, 'id_str': '867145598113284098', 'name': 'DEBBIE TIBERIO', 'screen_name': 'TiberioDebbie', 'location': 'Fairless Hills, PA', 'description': \"GREAT PERSON I'M A   FULL  DEMOCRAT\", 'url': None, 'entities': {'description': {'urls': []}}, 'protected': False, 'followers_count': 224, 'friends_count': 349, 'listed_count': 0, 'created_at': 'Tue May 23 22:29:56 +0000 2017', 'favourites_count': 119, 'utc_offset': None, 'time_zone': None, 'geo_enabled': True, 'verified': False, 'statuses_count': 29237, 'lang': None, 'contributors_enabled': False, 'is_translator': False, 'is_translation_enabled': False, 'profile_background_color': 'F5F8FA', 'profile_background_image_url': None, 'profile_background_image_url_https': None, 'profile_background_tile': False, 'profile_image_url': 'http://pbs.twimg.com/profile_images/867155972300713984/-KT7J3PB_normal.jpg', 'profile_image_url_https': 'https://pbs.twimg.com/profile_images/867155972300713984/-KT7J3PB_normal.jpg', 'profile_banner_url': 'https://pbs.twimg.com/profile_banners/867145598113284098/1549261521', 'profile_link_color': '1DA1F2', 'profile_sidebar_border_color': 'C0DEED', 'profile_sidebar_fill_color': 'DDEEF6', 'profile_text_color': '333333', 'profile_use_background_image': True, 'has_extended_profile': True, 'default_profile': True, 'default_profile_image': False, 'following': None, 'follow_request_sent': None, 'notifications': None, 'translator_type': 'none'}, 'geo': None, 'coordinates': None, 'place': None, 'contributors': None, 'retweeted_status': {'created_at': 'Sun Mar 07 16:43:11 +0000 2021', 'id': 1368603143639101448, 'id_str': '1368603143639101448', 'text': 'The legacy of Selma is that while nothing can stop free people from exercising their most sacred power as citizens,… https://t.co/pdpjPwnYdO', 'truncated': True, 'entities': {'hashtags': [], 'symbols': [], 'user_mentions': [], 'urls': [{'url': 'https://t.co/pdpjPwnYdO', 'expanded_url': 'https://twitter.com/i/web/status/1368603143639101448', 'display_url': 'twitter.com/i/web/status/1…', 'indices': [117, 140]}]}, 'source': '<a href=\"https://www.sprinklr.com\" rel=\"nofollow\">The White House</a>', 'in_reply_to_status_id': None, 'in_reply_to_status_id_str': None, 'in_reply_to_user_id': None, 'in_reply_to_user_id_str': None, 'in_reply_to_screen_name': None, 'user': {'id': 1349149096909668363, 'id_str': '1349149096909668363', 'name': 'President Biden', 'screen_name': 'POTUS', 'location': '', 'description': '46th President of the United States, husband to @FLOTUS, proud dad & pop. Tweets may be archived: https://t.co/IURuMIrzxb', 'url': 'https://t.co/IxLjEB2zlE', 'entities': {'url': {'urls': [{'url': 'https://t.co/IxLjEB2zlE', 'expanded_url': 'http://WhiteHouse.gov', 'display_url': 'WhiteHouse.gov', 'indices': [0, 23]}]}, 'description': {'urls': [{'url': 'https://t.co/IURuMIrzxb', 'expanded_url': 'http://whitehouse.gov/privacy', 'display_url': 'whitehouse.gov/privacy', 'indices': [98, 121]}]}}, 'protected': False, 'followers_count': 9020164, 'friends_count': 12, 'listed_count': 9774, 'created_at': 'Wed Jan 13 00:37:08 +0000 2021', 'favourites_count': 0, 'utc_offset': None, 'time_zone': None, 'geo_enabled': False, 'verified': True, 'statuses_count': 329, 'lang': None, 'contributors_enabled': False, 'is_translator': False, 'is_translation_enabled': False, 'profile_background_color': 'F5F8FA', 'profile_background_image_url': None, 'profile_background_image_url_https': None, 'profile_background_tile': False, 'profile_image_url': 'http://pbs.twimg.com/profile_images/1349837426626330628/CRMNXzQJ_normal.jpg', 'profile_image_url_https': 'https://pbs.twimg.com/profile_images/1349837426626330628/CRMNXzQJ_normal.jpg', 'profile_banner_url': 'https://pbs.twimg.com/profile_banners/1349149096909668363/1615590575', 'profile_link_color': '1DA1F2', 'profile_sidebar_border_color': 'C0DEED', 'profile_sidebar_fill_color': 'DDEEF6', 'profile_text_color': '333333', 'profile_use_background_image': True, 'has_extended_profile': True, 'default_profile': True, 'default_profile_image': False, 'following': None, 'follow_request_sent': None, 'notifications': None, 'translator_type': 'none'}, 'geo': None, 'coordinates': None, 'place': None, 'contributors': None, 'is_quote_status': False, 'retweet_count': 6601, 'favorite_count': 35786, 'favorited': False, 'retweeted': False, 'possibly_sensitive': False, 'lang': 'en'}, 'is_quote_status': False, 'retweet_count': 6601, 'favorite_count': 0, 'favorited': False, 'retweeted': False, 'lang': 'en'}] [{'id': '1368603143639101448', 'public_metrics': {'retweet_count': 6600, 'reply_count': 3820, 'like_count': 35782, 'quote_count': 512}, 'text': 'The legacy of Selma is that while nothing can stop free people from exercising their most sacred power as citizens, there are those who will do anything they can to take that power away. As we reflect on the anniversary of Bloody Sunday, we must stay focused on the work ahead. https://t.co/DDn1LFfqmi'}]\n"
     ]
    }
   ],
   "source": [
    "print(retweeter_objects, retweet_objects, tweet_info_objects)"
   ]
  },
  {
   "cell_type": "code",
   "execution_count": null,
   "metadata": {},
   "outputs": [],
   "source": []
  }
 ],
 "metadata": {
  "kernelspec": {
   "name": "python3",
   "display_name": "Python 3",
   "language": "python"
  },
  "language_info": {
   "codemirror_mode": {
    "name": "ipython",
    "version": 3
   },
   "file_extension": ".py",
   "mimetype": "text/x-python",
   "name": "python",
   "nbconvert_exporter": "python",
   "pygments_lexer": "ipython3",
   "version": "3.8.8-final"
  }
 },
 "nbformat": 4,
 "nbformat_minor": 1
}